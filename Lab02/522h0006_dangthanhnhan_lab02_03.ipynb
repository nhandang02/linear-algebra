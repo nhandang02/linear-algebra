{
  "nbformat": 4,
  "nbformat_minor": 0,
  "metadata": {
    "colab": {
      "provenance": []
    },
    "kernelspec": {
      "name": "python3",
      "display_name": "Python 3"
    },
    "language_info": {
      "name": "python"
    }
  },
  "cells": [
    {
      "cell_type": "markdown",
      "source": [
        "**Đặng Thành Nhân-MSSV:522H0006-Nhóm 8 tổ 2 -Lab2-3**"
      ],
      "metadata": {
        "id": "brAcAK5TBKB1"
      }
    },
    {
      "cell_type": "code",
      "execution_count": null,
      "metadata": {
        "id": "u-1XqlFA_0Kt"
      },
      "outputs": [],
      "source": [
        "# Exercise 1\n",
        "import numpy as np\n",
        "\n",
        "x = np.arange(1, 5+1)\n",
        "b = np.arange(1, 6+1)\n",
        "c = np.arange(1, 30+1)\n",
        "d = np.arange(1, 25+1)\n",
        "print(\"vx = \", x)\n",
        "print(\"vb = \", b)\n",
        "print(\"vc = \", c)\n",
        "print(\"vd = \", d)\n",
        "print()\n",
        "\n",
        "#a\n",
        "print(\"a) \")\n",
        "A1 = np.tile(x, (5,1))\n",
        "print(\"A1 =\")\n",
        "print(A1)\n",
        "print()\n",
        "A  = A1.T\n",
        "print(\"A =\")\n",
        "print(A)\n",
        "print()\n",
        "\n",
        "#b\n",
        "print(\"b) \")\n",
        "B = np.tile(b, (6,1))\n",
        "print(\"B = \")\n",
        "print(B)\n",
        "print()\n",
        "\n",
        "#c\n",
        "print(\"c) \")\n",
        "C1 = np.reshape(c, (6, 5))\n",
        "print(\"C1 =\")\n",
        "print(C1)\n",
        "C = C1.T\n",
        "print(\"C =\")\n",
        "print(C)\n",
        "print()\n",
        "\n",
        "#d\n",
        "print(\"d) \")\n",
        "D = np.reshape(d, (5, 5))\n",
        "print(\"D =\")\n",
        "print(D)"
      ]
    },
    {
      "cell_type": "code",
      "source": [
        "# Exercise 2\n",
        "import numpy as np\n",
        "a = int(input())\n",
        "b = int(input())\n",
        "maxtrix_5x6 = np.random.randint(a, b, (5, 6))\n",
        "print('Rand_5x6 = ')\n",
        "print(maxtrix_5x6)"
      ],
      "metadata": {
        "id": "FmCHk2v3IZLK"
      },
      "execution_count": null,
      "outputs": []
    },
    {
      "cell_type": "code",
      "source": [
        "# Exercise 3\n",
        "import numpy as np\n",
        "\n",
        "x = np.arange(1, 9+1)\n",
        "A = np.reshape(x, (3, 3))\n",
        "print(\"A = \")\n",
        "print(A)\n",
        "print()\n",
        "B = np.flip(A, 1)\n",
        "print(\"B = \")\n",
        "print(B)"
      ],
      "metadata": {
        "id": "Yv8OiNAvMGZb"
      },
      "execution_count": null,
      "outputs": []
    },
    {
      "cell_type": "code",
      "source": [
        "# Exercise 4\n",
        "import numpy as np\n",
        "\n",
        "x = np.arange(1, 9+1)\n",
        "A = np.reshape(x, (3, 3))\n",
        "print(\"A = \")\n",
        "print(A)\n",
        "print()\n",
        "B = np.flip(A, 0)\n",
        "print(\"B = \")\n",
        "print(B)"
      ],
      "metadata": {
        "id": "tPhTlAFhNqm2"
      },
      "execution_count": null,
      "outputs": []
    },
    {
      "cell_type": "code",
      "source": [
        "# Exercise 5\n",
        "\n",
        "Y = np.array( [[1, 2, 16, 31, 22],\n",
        "              [2, 8, 12, 21, 23],\n",
        "              [4, 9, 11, 14, 25],\n",
        "              [3, 6, 10, 16, 34]] )\n",
        "print(\"Y = \")\n",
        "print(Y)\n",
        "print()\n",
        "\n",
        "#a\n",
        "print(\"a) \")\n",
        "x = Y[1, 1:4]\n",
        "print(\"x = \")\n",
        "print(x)\n",
        "print()\n",
        "\n",
        "#b\n",
        "print(\"b)\" )\n",
        "y = Y[:,2:3]\n",
        "print(\"y = \")\n",
        "print(y)\n",
        "print()\n",
        "\n",
        "#c\n",
        "print(\"c) \")\n",
        "A = Y[1:3, 1:4]\n",
        "print(\"A = \")\n",
        "print(A)\n",
        "print()\n",
        "\n",
        "#d\n",
        "print(\"d) \")\n",
        "B = Y[:, [0,2,4]]\n",
        "print(\"B = \")\n",
        "print(B)\n",
        "print()\n",
        "\n",
        "#e\n",
        "print(\"e) \")\n",
        "C = Y[1:4, [0,2,3,4]]\n",
        "print(\"C = \")\n",
        "print(C)\n",
        "print()\n",
        "\n",
        "#f\n",
        "print(\"d)\" )\n",
        "D = np.where(Y>12, Y, 0)\n",
        "print(\"D = \")\n",
        "print(D)"
      ],
      "metadata": {
        "id": "HAmtEEMfN6xY"
      },
      "execution_count": null,
      "outputs": []
    },
    {
      "cell_type": "code",
      "source": [
        "# Exercise 6\n",
        "import numpy as np\n",
        "A = np.array([[2,4,1],\n",
        "      [6,7,2],\n",
        "      [3,5,9]])\n",
        "print(\"A = \")\n",
        "print(A)\n",
        "print()\n",
        "\n",
        "#a \n",
        "print(\"a)\" )\n",
        "x1 = A[0, :]\n",
        "print(\"x1 = \")\n",
        "print(x1)\n",
        "print()\n",
        "\n",
        "#b\n",
        "print(\"b)\" )\n",
        "Y = A[1:3, :]\n",
        "print(\"Y = \")\n",
        "print(Y)"
      ],
      "metadata": {
        "id": "Msh2rFxTYTLK"
      },
      "execution_count": null,
      "outputs": []
    },
    {
      "cell_type": "code",
      "source": [
        "# Exercise 7\n",
        "import numpy as np \n",
        "A = np.array([[2,7,9,7],\n",
        "              [3,1,5,6],\n",
        "              [8,1,2,5]])\n",
        "print(\"A = \")\n",
        "print(A)\n",
        "print()\n",
        "\n",
        "#a\n",
        "print(\"a)\")\n",
        "B = A[:, [0, 2]]\n",
        "print(\"B = \")\n",
        "print(B)\n",
        "print()\n",
        "\n",
        "#b\n",
        "print(\"b)\")\n",
        "C = A[1::2 , :]\n",
        "print(\"C = \")\n",
        "print(C)\n",
        "print()\n",
        "\n",
        "#c\n",
        "print(\"c)\")\n",
        "print(\"A= \")\n",
        "print(A.T) "
      ],
      "metadata": {
        "id": "DO7383gbaR7-"
      },
      "execution_count": null,
      "outputs": []
    }
  ]
}