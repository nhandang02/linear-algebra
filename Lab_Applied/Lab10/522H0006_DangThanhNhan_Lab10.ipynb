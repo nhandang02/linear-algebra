{
  "nbformat": 4,
  "nbformat_minor": 0,
  "metadata": {
    "colab": {
      "provenance": []
    },
    "kernelspec": {
      "name": "python3",
      "display_name": "Python 3"
    },
    "language_info": {
      "name": "python"
    }
  },
  "cells": [
    {
      "cell_type": "markdown",
      "source": [
        "**Đặng Thành Nhân-MSSV:522H0006-Nhóm 8 tổ 2 -Lab10**"
      ],
      "metadata": {
        "id": "SX0rqZZyfIkf"
      }
    },
    {
      "cell_type": "code",
      "source": [
        "# Exercise 1\n",
        "import numpy as np\n",
        "A = np.array([[-1, 3.5, 14],\n",
        "              [0, 5, -26],\n",
        "              [0, 0, 2]])\n",
        "B = np.array([[-2, 0, 0],\n",
        "              [99, 0, 0],\n",
        "              [10, -4.5, 10]])\n",
        "C = np.array([[5, 5, 0, 2],\n",
        "              [0, 2, -3, 6],\n",
        "              [0, 0, 3, -2],\n",
        "              [0, 0, 0, 5]])\n",
        "D = np.array([[3, 0, 0, 0],\n",
        "              [6, 2, 0, 0],\n",
        "              [0, 3, 6, 0],\n",
        "              [2, 3, 3, -5]])\n",
        "E = np.array([[3, 0, 0, 0, 0],\n",
        "              [-5, 1, 0, 0, 0],\n",
        "              [3, 8, 0, 0, 0],\n",
        "              [0, -7, 2, 1, 0],\n",
        "              [-4, 1, 9, -2, 3]])\n",
        "def Eigenvalues(matrix):\n",
        "  eval = np.linalg.eigvals (matrix)\n",
        "  print(\"1. eigenvalues = \", eval) #eigenvalues\n",
        "  w, v = np.linalg.eig(matrix)\n",
        "  print(\"2. eigenvalues = \", w) #eigenvalues =\n",
        "  print(\"3. eigenvectors = \", v) #columns of the matrix v are eigenvectors\n",
        "  print()\n",
        "\n",
        "Eigenvalues(A)\n",
        "Eigenvalues(B)\n",
        "Eigenvalues(C)\n",
        "Eigenvalues(D)\n",
        "Eigenvalues(E)"
      ],
      "metadata": {
        "colab": {
          "base_uri": "https://localhost:8080/"
        },
        "id": "hPhN4UpbimcY",
        "outputId": "0bebef35-13ea-4916-b1c4-047aba0189fa"
      },
      "execution_count": null,
      "outputs": [
        {
          "output_type": "stream",
          "name": "stdout",
          "text": [
            "1. eigenvalues =  [-1.  5.  2.]\n",
            "2. eigenvalues =  [-1.  5.  2.]\n",
            "3. eigenvectors =  [[1.         0.50387103 0.86113459]\n",
            " [0.         0.8637789  0.5050263 ]\n",
            " [0.         0.         0.05827227]]\n",
            "\n",
            "1. eigenvalues =  [10.  0. -2.]\n",
            "2. eigenvalues =  [10.  0. -2.]\n",
            "3. eigenvectors =  [[ 0.          0.          0.01880627]\n",
            " [ 0.          0.91192151 -0.93091035]\n",
            " [ 1.          0.41036468 -0.36476327]]\n",
            "\n",
            "1. eigenvalues =  [5. 2. 3. 5.]\n",
            "2. eigenvalues =  [5. 2. 3. 5.]\n",
            "3. eigenvectors =  [[ 1.00000000e+00 -8.57492926e-01  9.21442675e-01 -1.00000000e+00]\n",
            " [ 0.00000000e+00  5.14495755e-01 -3.68577070e-01  1.95921710e-16]\n",
            " [ 0.00000000e+00  0.00000000e+00  1.22859023e-01 -6.53072367e-17]\n",
            " [ 0.00000000e+00  0.00000000e+00  0.00000000e+00  6.53072367e-17]]\n",
            "\n",
            "1. eigenvalues =  [-5.  6.  2.  3.]\n",
            "2. eigenvalues =  [-5.  6.  2.  3.]\n",
            "3. eigenvectors =  [[ 0.          0.          0.          0.11699108]\n",
            " [ 0.          0.          0.79707732  0.70194646]\n",
            " [ 0.          0.96476382 -0.59780799 -0.70194646]\n",
            " [ 1.          0.26311741  0.08540114  0.02924777]]\n",
            "\n",
            "1. eigenvalues =  [3. 1. 0. 1. 3.]\n",
            "2. eigenvalues =  [3. 1. 0. 1. 3.]\n",
            "3. eigenvectors =  [[ 0.00000000e+00  0.00000000e+00  0.00000000e+00  0.00000000e+00\n",
            "   1.04628348e-17]\n",
            " [ 0.00000000e+00  0.00000000e+00  0.00000000e+00  1.74454718e-17\n",
            "  -2.61570870e-17]\n",
            " [ 0.00000000e+00  0.00000000e+00  2.05075778e-01  1.39563774e-16\n",
            "  -5.92893971e-17]\n",
            " [ 0.00000000e+00  7.07106781e-01 -4.10151556e-01 -7.07106781e-01\n",
            "   3.22604073e-17]\n",
            " [ 1.00000000e+00  7.07106781e-01 -8.88661705e-01 -7.07106781e-01\n",
            "   1.00000000e+00]]\n",
            "\n"
          ]
        }
      ]
    },
    {
      "cell_type": "code",
      "source": [
        "#Exercise 2:\n",
        "import numpy as np\n",
        "a12 = [32, 31.9, 31.8, 32.1, 32.2]\n",
        "for a in a12:\n",
        "  E2a = np.array([[-6, 28, 21],\n",
        "                  [4, -15, -12],\n",
        "                  [8,a,25]])\n",
        "\n",
        "  #w, v np.linalg.eig(E2a)\n",
        "  w = np.linalg.eigvals (E2a)\n",
        "  print(\"Eigenvalues with a = \",a, \"is: \", w)\n",
        "  E2a = np.array([[-6, 28, 21], [4, -15, -12], [8,a,25]])\n",
        "  print(\"Eigenvalues of A with a = \",a, \"is: \", w) # trị riêng\n",
        "\n",
        "#Plot đồ thị\n",
        "from matplotlib import pyplot as plt\n",
        "from sympy import *\n",
        "A = np.array([[-6, 28, 21],[4, -15, -12],[8, 0, 15]])\n",
        "#alpha = np.array([32, 31.9, 31.8, 32.1, 32.2])\n",
        "alpha = [32, 31.9, 31.8, 32.1, 32.2]\n",
        "color = ['b', 'r', 'g', 'k', 'c', 'm']\n",
        "t = symbols('t')\n",
        "x = np.arange(0, 3, 0.05)\n",
        "fig = plt.figure()\n",
        "#for i, alp in enumerate(alpha):  #alpha = [32, 31.9, 31.8, 32.1, 32.2]\n",
        "i = 0\n",
        "for alp in alpha:  #alpha = [32, 31.9, 31.8, 32.1, 32.2]\n",
        "    B = A  #Sao chép ma trận A sang ma trận B\n",
        "    B[2,1] = alp # Gán tham số a vào ma trận B\n",
        "    lambd = np.linalg.eigvals(B)\n",
        "    p = 1\n",
        "\n",
        "    for j in range(len(lambd)):\n",
        "      p = p*(lambd[j] - t)\n",
        "    y = lambdify(t, p, \"numpy\")(x)\n",
        "    plt.plot(x, y, color[i])\n",
        "    i = i + 1\n",
        "plt.show()"
      ],
      "metadata": {
        "colab": {
          "base_uri": "https://localhost:8080/",
          "height": 605
        },
        "id": "x2u05xxgod5M",
        "outputId": "27cb3b4e-f9bd-42fb-a9f7-4c892e2e8db4"
      },
      "execution_count": null,
      "outputs": [
        {
          "output_type": "stream",
          "name": "stdout",
          "text": [
            "Eigenvalues with a =  32 is:  [ 19.83712082 -16.83712082   1.        ]\n",
            "Eigenvalues of A with a =  32 is:  [ 19.83712082 -16.83712082   1.        ]\n",
            "Eigenvalues with a =  31.9 is:  [ 19.86981219 -16.86981219   1.        ]\n",
            "Eigenvalues of A with a =  31.9 is:  [ 19.86981219 -16.86981219   1.        ]\n",
            "Eigenvalues with a =  31.8 is:  [ 19.90244549 -16.90244549   1.        ]\n",
            "Eigenvalues of A with a =  31.8 is:  [ 19.90244549 -16.90244549   1.        ]\n",
            "Eigenvalues with a =  32.1 is:  [ 19.80437106 -16.80437106   1.        ]\n",
            "Eigenvalues of A with a =  32.1 is:  [ 19.80437106 -16.80437106   1.        ]\n",
            "Eigenvalues with a =  32.2 is:  [ 19.7715626 -16.7715626   1.       ]\n",
            "Eigenvalues of A with a =  32.2 is:  [ 19.7715626 -16.7715626   1.       ]\n"
          ]
        },
        {
          "output_type": "display_data",
          "data": {
            "text/plain": [
              "<Figure size 640x480 with 1 Axes>"
            ],
            "image/png": "[encoded data removed]"
          },
          "metadata": {}
        }
      ]
    },
    {
      "cell_type": "code",
      "source": [
        "#Exercise 5:\n",
        "import numpy as np\n",
        "#An n×n-matrix A is said to be diagonalizable if it can be written on the form\n",
        "#  A = P * D * P^-1\n",
        "#where D is a diagonal n×n matrix with the eigenvalues of A,\n",
        "#and P is a nonsingular n×n matrix consisting of the eigenvectors\n",
        "import numpy as np\n",
        "\n",
        "def checkDiagonalizable(A):\n",
        "  w, P = np.linalg.eig(A) # w is eigenvalues of A; P is vectorvalues of A\n",
        "  print(\"w = \",w)\n",
        "  D = np.diag(w) #Chuyển thành ma trận đường chéo của w\n",
        "  print(\"D = \\n\",D)\n",
        "  print(\"--------\")\n",
        "  P_1 = np.linalg.inv(P)\n",
        "\n",
        "  res = np.matmul(np.matmul(P,D),P_1)\n",
        "  print(\"res = \\n\",res)\n",
        "  return np.allclose(A, res) #if A = res return True\n",
        "\n",
        "A1 = np.array([[4, -5],\n",
        "               [2, -3]])\n",
        "print(checkDiagonalizable(A1))\n",
        "\n",
        "A2 = np.array([[0, 2],\n",
        "               [0, 1]])\n",
        "print(checkDiagonalizable(A2))\n",
        "\n",
        "A3 = np.array([[2, 3],\n",
        "               [1, 4]])\n",
        "print(checkDiagonalizable(A3))\n",
        "\n",
        "A4 = np.array([[1, 2, -2],\n",
        "               [-2, 5, -2],\n",
        "               [-6, 6, -3]])\n",
        "print(checkDiagonalizable(A4))\n",
        "\n",
        "A5 = np.array([[1, 2, 3, 4],\n",
        "               [5, 6, 7, 8],\n",
        "               [9, 10, 11, 12],\n",
        "               [13, 14, 15, 16]])\n",
        "print(checkDiagonalizable(A5))"
      ],
      "metadata": {
        "colab": {
          "base_uri": "https://localhost:8080/"
        },
        "id": "Dhu5Dx9Hv7Rb",
        "outputId": "082cb78a-cbcc-4d0c-f3af-bca8de97556d"
      },
      "execution_count": null,
      "outputs": [
        {
          "output_type": "stream",
          "name": "stdout",
          "text": [
            "w =  [ 2. -1.]\n",
            "D = \n",
            " [[ 2.  0.]\n",
            " [ 0. -1.]]\n",
            "--------\n",
            "res = \n",
            " [[ 4. -5.]\n",
            " [ 2. -3.]]\n",
            "True\n",
            "w =  [0. 1.]\n",
            "D = \n",
            " [[0. 0.]\n",
            " [0. 1.]]\n",
            "--------\n",
            "res = \n",
            " [[0. 2.]\n",
            " [0. 1.]]\n",
            "True\n",
            "w =  [1. 5.]\n",
            "D = \n",
            " [[1. 0.]\n",
            " [0. 5.]]\n",
            "--------\n",
            "res = \n",
            " [[2. 3.]\n",
            " [1. 4.]]\n",
            "True\n",
            "w =  [-3.  3.  3.]\n",
            "D = \n",
            " [[-3.  0.  0.]\n",
            " [ 0.  3.  0.]\n",
            " [ 0.  0.  3.]]\n",
            "--------\n",
            "res = \n",
            " [[ 1.  2. -2.]\n",
            " [-2.  5. -2.]\n",
            " [-6.  6. -3.]]\n",
            "True\n",
            "w =  [ 3.62093727e+01 -2.20937271e+00 -2.62410379e-15 -9.51420961e-17]\n",
            "D = \n",
            " [[ 3.62093727e+01  0.00000000e+00  0.00000000e+00  0.00000000e+00]\n",
            " [ 0.00000000e+00 -2.20937271e+00  0.00000000e+00  0.00000000e+00]\n",
            " [ 0.00000000e+00  0.00000000e+00 -2.62410379e-15  0.00000000e+00]\n",
            " [ 0.00000000e+00  0.00000000e+00  0.00000000e+00 -9.51420961e-17]]\n",
            "--------\n",
            "res = \n",
            " [[ 1.  2.  3.  4.]\n",
            " [ 5.  6.  7.  8.]\n",
            " [ 9. 10. 11. 12.]\n",
            " [13. 14. 15. 16.]]\n",
            "True\n"
          ]
        }
      ]
    }
  ]
}