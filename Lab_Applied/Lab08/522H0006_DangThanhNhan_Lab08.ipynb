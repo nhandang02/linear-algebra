{
  "nbformat": 4,
  "nbformat_minor": 0,
  "metadata": {
    "colab": {
      "provenance": []
    },
    "kernelspec": {
      "name": "python3",
      "display_name": "Python 3"
    },
    "language_info": {
      "name": "python"
    }
  },
  "cells": [
    {
      "cell_type": "markdown",
      "source": [
        "**Đặng Thành Nhân-MSSV:522H0006-Nhóm 8 tổ 2 -Lab8**"
      ],
      "metadata": {
        "id": "jUPh6vijV5aD"
      }
    },
    {
      "cell_type": "code",
      "source": [
        "# Exercise 1\n",
        "import numpy as np\n",
        "A = np.array([[2, 2], [2, 3]])\n",
        "b = np.array([4, 6])\n",
        "\n",
        "x = np.linalg.lstsq(A, b, rcond=None)[0]\n",
        "print(\"x [by lstsq function] =\", x)\n",
        "print(\"A*x = \", np.matmul(A, x))\n",
        "\n",
        "A = np.array([[2, 1, 1], [1, 2, 1]])\n",
        "A = np.transpose(A)\n",
        "b = [2, 0, -3]\n",
        "x = np.linalg.lstsq(A, b, rcond=None)[0]\n",
        "print(\"x [by lstsq function] = \", round(x[0],5), round(x[1],5))"
      ],
      "metadata": {
        "id": "rhUc09zuWawK"
      },
      "execution_count": null,
      "outputs": []
    },
    {
      "cell_type": "code",
      "source": [
        "# Exercise 2\n",
        "import numpy as np\n",
        "\n",
        "# Define the matrix A and the vector b\n",
        "A = np.array([[0, 0, 1],\n",
        "              [0, 1, 1],\n",
        "              [1, 2, 1],\n",
        "              [1, 0, 1],\n",
        "              [4, 1, 1],\n",
        "              [4, 2, 1]])\n",
        "b = np.array([0.5, 1.6, 2.8, 0.8, 5.1, 5.9])\n",
        "\n",
        "# Find the least squares solution\n",
        "x = np.linalg.lstsq(A, b, rcond=None)[0]\n",
        "\n",
        "# Print the result\n",
        "print(\"Least squares solution:\")\n",
        "print(\"c =\", x[0])\n",
        "print(\"d =\", x[1])\n",
        "print(\"e =\", x[2])\n"
      ],
      "metadata": {
        "id": "YOY9nwI6fgBT"
      },
      "execution_count": null,
      "outputs": []
    },
    {
      "cell_type": "code",
      "source": [
        "# Exercise 3\n",
        "import numpy as np\n",
        "import matplotlib.pyplot as plt\n",
        "\n",
        "x1 = np.array([0, 1, 2, 3])\n",
        "y1 = np.array([1, 1, 2, 2])\n",
        "\n",
        "x2 = np.array([1, 2, 4, 5])\n",
        "y2 = np.array([0, 1, 2, 3])\n",
        "\n",
        "x3 = np.array([-1, 0, 1, 2])\n",
        "y3 = np.array([0, 1, 2, 4])\n",
        "\n",
        "x4 = np.array([2, 3, 5, 6])\n",
        "y4 = np.array([3, 2, 1, 0])\n",
        "\n",
        "def draw(matrix1, matrix2):\n",
        "  A = np.vstack([x, np.ones(len(x))]).T\n",
        "\n",
        "  a = np.linalg.lstsq(A, y, rcond=None)[0]\n",
        "\n",
        "  print(\"a0 = {}, a1 = {}\".format(a[1], a[0]))\n",
        "\n",
        "  y_ls = lambda x: a[1] + a[0]*x\n",
        "  x_arr = np.arange(-5, 5.1, 0.1)\n",
        "  y_arr = list(map(y_ls, x_arr))\n",
        "\n",
        "  plt.scatter(x, y, color=\"blue\", label=\"data points\")\n",
        "  plt.plot(x_arr, y_arr, \"r\", label=\"least squares line\")\n",
        "\n",
        "  plt.title(\"A least squares line that best fits the given data points\")\n",
        "  plt.legend()\n",
        "  plt.show()\n",
        "\n",
        "# a\n",
        "print(\"a)\")\n",
        "draw(x1, y1)\n",
        "\n",
        "# b\n",
        "print(\"b)\")\n",
        "draw(x2, y2)\n",
        "\n",
        "# c\n",
        "print(\"c\")\n",
        "draw(x3, y3)\n",
        "\n",
        "# d\n",
        "print(\"d\")\n",
        "draw(x4, y4)"
      ],
      "metadata": {
        "id": "brUOWAJiiAJx"
      },
      "execution_count": null,
      "outputs": []
    },
    {
      "cell_type": "code",
      "source": [
        "# Exercise 4\n",
        "import matplotlib.pyplot as plt\n",
        "import numpy as np\n",
        "\n",
        "mileage = [2000, 6000, 20000, 30000, 40000]\n",
        "friction = [20, 18, 10, 6, 2]\n",
        "\n",
        "A = np.vstack([mileage, np.ones(len(mileage))]).T\n",
        "m, c = np.linalg.lstsq(A, friction, rcond=None)[0]\n",
        "\n",
        "x = np.linspace(0, 45000, 1000)\n",
        "y = m * x + c\n",
        "\n",
        "plt.plot(mileage, friction, \"o\", label=\"Data points\")\n",
        "plt.plot(x, y, label=\"Line of best fit\")\n",
        "plt.legend()\n",
        "plt.xlabel(\"Mileage\")\n",
        "plt.ylabel(\"Friction index\")\n",
        "plt.title(\"Linear Regression: Mileage vs Friction Index\")\n",
        "plt.show()\n",
        "\n",
        "print(\"Slope (m): \", round(m, 3))\n",
        "print((\"Y-intercept (c): \", round(c, 3)))"
      ],
      "metadata": {
        "id": "fEzie33LrVJt",
        "outputId": "11be2efa-2e06-4edb-d6fd-d32fd0126ba1",
        "colab": {
          "base_uri": "https://localhost:8080/",
          "height": 507
        }
      },
      "execution_count": null,
      "outputs": [
        {
          "output_type": "display_data",
          "data": {
            "text/plain": [
              "<Figure size 640x480 with 1 Axes>"
            ],
            "image/png": "[encoded data removed]"
          },
          "metadata": {}
        },
        {
          "output_type": "stream",
          "name": "stdout",
          "text": [
            "Slope (m):  -0.0\n",
            "('Y-intercept (c): ', 20.615)\n"
          ]
        }
      ]
    },
    {
      "cell_type": "code",
      "source": [
        "# Exercise 5\n",
        "import numpy as np\n",
        "import matplotlib.pyplot as plt\n",
        "from scipy.optimize import curve_fit\n",
        "\n",
        "def func(x, A, B):\n",
        "    return A * np.cos(x) + B * np.sin(x)\n",
        "\n",
        "x_data = np.array([1, 2, 3])\n",
        "y_data = np.array([7.9, 5.4, -9])\n",
        "\n",
        "popt, pcov = curve_fit(func, x_data, y_data)\n",
        "\n",
        "A = popt[0]\n",
        "B = popt[1]\n",
        "\n",
        "print(\"A =\", A)\n",
        "print(\"B =\", B)\n",
        "\n",
        "x_fit = np.linspace(0, 4, 100)\n",
        "y_fit = func(x_fit, A, B)\n",
        "plt.plot(x_data, y_data, \"bo\", label = \"data\")\n",
        "plt.plot(x_fit, y_fit, \"r\", label = \"fit\")\n",
        "plt.legend()\n",
        "plt.show()"
      ],
      "metadata": {
        "id": "KPZZgImCxfvA"
      },
      "execution_count": null,
      "outputs": []
    },
    {
      "cell_type": "code",
      "source": [
        "# Exercise 6\n",
        "import numpy as np\n",
        "import matplotlib.pyplot as plt\n",
        "\n",
        "x = np.array([1, 2, 3, 4, 5, 6])\n",
        "y = np.array([2.1, 3.5, 4.2, 3.1, 4.4, 6.8])\n",
        "\n",
        "coeffs = np.polyfit(x, y, 3)\n",
        "cubic_model = np.poly1d(coeffs)\n",
        "\n",
        "x_range = np.linspace(1, 6, 100)\n",
        "y_range = cubic_model(x_range)\n",
        "\n",
        "plt.scatter(x, y, color = \"black\", label = \"data points\")\n",
        "plt.plot(x_range, y_range, color = \"blue\", label = \"cubic fit\")\n",
        "plt.legend()\n",
        "plt.xlabel('Time in Days')\n",
        "plt.ylabel('Grams')\n",
        "plt.title(\"Cubic Model Fit For Bacteria Growth Data\")\n",
        "plt.show()\n"
      ],
      "metadata": {
        "id": "MXhUtHxZvGeP"
      },
      "execution_count": null,
      "outputs": []
    },
    {
      "cell_type": "code",
      "source": [
        "# Exercise 7\n",
        "import matplotlib.pyplot as plt\n",
        "\n",
        "#a\n",
        "#khai bao vecto x thuộc R2\n",
        "x = [2, 3]\n",
        "#sau khi nhân S\n",
        "print(\"'a)\")\n",
        "s = ([[2,0],\n",
        "      [0,2]])\n",
        "x1 = np.matmul(x,s)\n",
        "plt.arrow(0, 0, x1[0], x1[1], color='red', width=0.1, label='Transformed')\n",
        "plt.arrow(0, 0, x[0], x[1], color='b', width=0.1, label='Original')\n",
        "plt.xlim(-1, 10)\n",
        "plt.ylim(-1, 10)\n",
        "plt.title(\"a\")\n",
        "plt.grid()\n",
        "plt.legend()\n",
        "plt.show()\n",
        "\n",
        "#b\n",
        "print(\"'b)\")\n",
        "s = ([[0.5,0],\n",
        "      [0,0.5]])\n",
        "x1 = np.matmul(x,s)\n",
        "plt.arrow(0, 0, x[0], x[1], color='b', width=0.1, label='Original')\n",
        "plt.arrow(0, 0, x1[0], x1[1], color='red', width=0.1, label='Transformed')\n",
        "plt.xlim(-1, 10)\n",
        "plt.ylim(-1, 10)\n",
        "plt.title(\"b\")\n",
        "plt.grid()\n",
        "plt.legend()\n",
        "plt.show()\n",
        "\n",
        "#c\n",
        "print(\"'c)\")\n",
        "s = ([[1,0],\n",
        "      [0,-1]])\n",
        "x1 = np.matmul(x,s)\n",
        "plt.arrow(0, 0, x[0], x[1], color='b', width=0.1, label='Original')\n",
        "plt.arrow(0, 0, x1[0], x1[1], color='red', width=0.1, label='Transformed')\n",
        "plt.xlim(-1, 10)\n",
        "plt.ylim(-10, 10)\n",
        "plt.title(\"b\")\n",
        "plt.grid()\n",
        "plt.legend()\n",
        "plt.show()\n",
        "\n",
        "#d\n",
        "print(\"'d)\")\n",
        "s = ([[-1,0],\n",
        "      [0,1]])\n",
        "x1 = np.matmul(x,s)\n",
        "plt.arrow(0, 0, x[0], x[1], color='b', width=0.1, label='Original')\n",
        "plt.arrow(0, 0, x1[0], x1[1], color='red', width=0.1, label='Transformed')\n",
        "plt.xlim(-10, 10)\n",
        "plt.ylim(-10, 10)\n",
        "plt.title(\"b\")\n",
        "plt.grid()\n",
        "plt.legend()\n",
        "plt.show()"
      ],
      "metadata": {
        "id": "n0YBOfV2PWSv"
      },
      "execution_count": null,
      "outputs": []
    },
    {
      "cell_type": "code",
      "source": [
        "# Exercise 8\n",
        "import numpy as np\n",
        "import matplotlib.pyplot as plt\n",
        "import math\n",
        "\n",
        "v = np.array([1, 2])\n",
        "pi = math.pi\n",
        "\n",
        "R = np.array([[np.cos(pi), -np.sin(pi)], [np.sin(pi), np.cos(pi)]])\n",
        "\n",
        "w = R @ v\n",
        "\n",
        "plt.arrow(0, 0, v[0], v[1], color='b', width=0.1, label='Original')\n",
        "plt.arrow(0, 0, w[0], w[1], color='r', width=0.1, label='Transformed')\n",
        "plt.xlim(-3, 3)\n",
        "plt.ylim(-3, 3)\n",
        "plt.title(\"phi = pi\")\n",
        "plt.grid()\n",
        "plt.legend()\n",
        "plt.show()\n",
        "\n",
        "#b\n",
        "R = np.array([[np.cos(pi/3), -np.sin(pi/3)], [np.sin(pi/3), np.cos(pi/3)]])\n",
        "\n",
        "w = R @ v\n",
        "\n",
        "plt.arrow(0, 0, v[0], v[1], color='b', width=0.1, label='Original')\n",
        "plt.arrow(0, 0, w[0], w[1], color='r', width=0.1, label='Transformed')\n",
        "plt.xlim(-3, 3)\n",
        "plt.ylim(-3, 3)\n",
        "plt.title(\"phi = pi/3\")\n",
        "plt.grid()\n",
        "plt.legend()\n",
        "plt.show()"
      ],
      "metadata": {
        "id": "hZ4Cu0JhPwzV"
      },
      "execution_count": null,
      "outputs": []
    }
  ]
}