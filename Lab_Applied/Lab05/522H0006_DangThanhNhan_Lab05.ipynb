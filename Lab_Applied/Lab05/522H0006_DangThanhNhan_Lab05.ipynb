{
  "nbformat": 4,
  "nbformat_minor": 0,
  "metadata": {
    "colab": {
      "provenance": []
    },
    "kernelspec": {
      "name": "python3",
      "display_name": "Python 3"
    },
    "language_info": {
      "name": "python"
    }
  },
  "cells": [
    {
      "cell_type": "markdown",
      "source": [
        "\n",
        "**Đặng Thành Nhân-MSSV:522H0006-Nhóm 8 tổ 2 -Lab5**"
      ],
      "metadata": {
        "id": "C31RxhPEpFxG"
      }
    },
    {
      "cell_type": "code",
      "source": [
        "#Exercise 15:\n",
        "import numpy as np\n",
        "A15 = []\n",
        "A = np.random.randint(1, 100, (10 ,10))\n",
        "print(A)\n",
        "for i in range(10):\n",
        "  if i % 2 == 1:\n",
        "    A15 = A15 + [np.flipud(A[i, :])]\n",
        "  else:\n",
        "    A15 = A15 + [A[i,:]]\n",
        "A15 = np.reshape(A15,(10, 10))\n",
        "print(A15)"
      ],
      "metadata": {
        "id": "-9eJ6EEYpS_I"
      },
      "execution_count": null,
      "outputs": []
    },
    {
      "cell_type": "code",
      "source": [
        "#Exercise 16:\n",
        "import numpy as np\n",
        "m = 10\n",
        "n = 10\n",
        "A = np.random.randint(1, 100, (m ,n))\n",
        "print(A)\n",
        "max = 0\n",
        "for i in range(3):\n",
        "  for j in range(3):\n",
        "    if(A[i,j] > max and A[i,j] % 2 == 1):\n",
        "      max = A[i,j]\n",
        "print(max)\n",
        "\n",
        "for i in range(10):\n",
        "  for j in range(10):\n",
        "    if (A[i,j] % 2 == 1):\n",
        "      A[i,j] = max\n",
        "\n",
        "print(A)"
      ],
      "metadata": {
        "id": "-t6Z--YSqCVX"
      },
      "execution_count": null,
      "outputs": []
    },
    {
      "cell_type": "code",
      "source": [
        "#Exersice 17:\n",
        "import numpy as np\n",
        "m = 10\n",
        "n = 10\n",
        "A = np.random.randint(1, 100, (m ,n))\n",
        "print(A)\n",
        "print()\n",
        "t = 0\n",
        "for i in range(10):\n",
        "  t = A[i,j]\n",
        "  A[i, 0] = A[i,0]\n",
        "  A[i,0] = t\n",
        "print(A)"
      ],
      "metadata": {
        "id": "wjxXHhMtqHSn"
      },
      "execution_count": null,
      "outputs": []
    },
    {
      "cell_type": "code",
      "source": [
        "#Exercise 18:\n",
        "import numpy as np\n",
        "m = 10\n",
        "n = 10\n",
        "A = np.random.randint(1, 100, (m ,n))\n",
        "print(A)\n",
        "S = 0\n",
        "for i in range(10):\n",
        "  for j in range(10):\n",
        "    S = S + A[i,j]\n",
        "print(\"S = \", S)"
      ],
      "metadata": {
        "id": "Js6zbx5kqJJc"
      },
      "execution_count": null,
      "outputs": []
    },
    {
      "cell_type": "code",
      "source": [
        "#Exercise 19:\n",
        "import numpy as np\n",
        "m = 10\n",
        "n = 10\n",
        "A = np.random.randint(1, 100, (m ,n))\n",
        "print(A)\n",
        "A19 = np.diag(A, 0)\n",
        "print(A19)"
      ],
      "metadata": {
        "id": "GoQTU1ScqPQJ"
      },
      "execution_count": null,
      "outputs": []
    },
    {
      "cell_type": "code",
      "source": [
        "#Exercise 20:\n",
        "import numpy as np\n",
        "import sympy as sp\n",
        "x, c1, c2, c3, c4 = sp.symbols('x, c1, c2, c3, c4')\n",
        "pt = lambda x: c1 + c2*x + c3*x**2 + c4*x**3\n",
        "print(pt(1))\n",
        "print(pt(2))\n",
        "print(pt(3))\n",
        "print(pt(4))\n",
        "pt1 = sp.Eq(pt(1), 1000)\n",
        "pt2 = sp.Eq(pt(2), 2000)\n",
        "pt3 = sp.Eq(pt(3), 3000)\n",
        "pt4 = sp.Eq(pt(4), 4000)\n",
        "sol = sp.solve((pt1, pt2, pt3, pt4), (c1, c2, c3, c4))\n",
        "print(\"solution =\", sol)"
      ],
      "metadata": {
        "id": "-uSbrQZ7qUOv"
      },
      "execution_count": null,
      "outputs": []
    }
  ]
}