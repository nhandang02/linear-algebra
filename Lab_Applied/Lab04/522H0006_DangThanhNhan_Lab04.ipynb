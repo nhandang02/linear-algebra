{
  "nbformat": 4,
  "nbformat_minor": 0,
  "metadata": {
    "colab": {
      "provenance": []
    },
    "kernelspec": {
      "name": "python3",
      "display_name": "Python 3"
    },
    "language_info": {
      "name": "python"
    }
  },
  "cells": [
    {
      "cell_type": "markdown",
      "source": [
        "**Đặng Thành Nhân-MSSV:522H0006-Nhóm 8 tổ 2 -Lab4**"
      ],
      "metadata": {
        "id": "hEJGh5VDDp8h"
      }
    },
    {
      "cell_type": "code",
      "source": [
        "# Exercise 1\n",
        "import sympy as sp\n",
        "\n",
        "# a\n",
        "x, y, z = sp.symbols('x, y, z')\n",
        "\n",
        "eq1 = sp.Eq(x + 2*y + z, 0)\n",
        "eq2 = sp.Eq(2*x - y + z, 0)\n",
        "eq3 = sp.Eq(2*x + y, 0)\n",
        "\n",
        "sol = sp.solve((eq1, eq2, eq3), (x, y, z))\n",
        "print(\"a)\")\n",
        "print(\"Solution = \", sol)\n",
        "print()\n",
        "\n",
        "if x in sol:\n",
        "  print(\"x = \", sol[x])\n",
        "if x in sol:\n",
        "  print(\"y = \", sol[y])\n",
        "if x in sol:\n",
        "  print(\"z = \", sol[z])\n",
        "print()\n",
        "\n",
        "# b\n",
        "x, y, z, t = sp.symbols(\"x, y, z, t\")\n",
        "\n",
        "eq1 = sp.Eq(2*x + y + z + t, 1)\n",
        "eq2 = sp.Eq(x + 2*y + z + t, 1)\n",
        "eq3 = sp.Eq(x + y + 2*z + 2*t, 1)\n",
        "eq4 = sp.Eq(x + y + z + 2*t, 1)\n",
        "\n",
        "sol1 = sp.solve((eq1, eq2, eq3, eq4), (x, y, z, t))\n",
        "print(\"b)\")\n",
        "print(\"Solution = \", sol1)\n",
        "\n",
        "if x in sol1:\n",
        "  print(\"x = \", sol1[x])\n",
        "if x in sol1:\n",
        "  print(\"y = \", sol1[y])\n",
        "if x in sol1:\n",
        "  print(\"z = \", sol1[z])\n",
        "if x in sol1:\n",
        "  print(\"t = \", sol1[t])"
      ],
      "metadata": {
        "id": "SP5c5zuCDyDA"
      },
      "execution_count": null,
      "outputs": []
    },
    {
      "cell_type": "code",
      "source": [
        "# Exercise 2\n",
        "import sympy as sp\n",
        "import numpy as np\n",
        "import matplotlib.pyplot as plt\n",
        "\n",
        "def plot2DEquation(x_arr, a, b, c):\n",
        "  \"\"\"\n",
        "  This function plots the linear equation ax + by = c in a 2D coordinate system.\n",
        "  x_arr: values on the x-axis\n",
        "  Function: ax + by = c\n",
        "  \"\"\"\n",
        "  if b != 0:  # y = -(a/b)*x + c/b  = (1/b)*(-a*x + c)\n",
        "    fx = lambda x: (c - a*x)/b  #note that y=f(x)\n",
        "    y_arr = list( map(fx, x_arr) )\n",
        "    plt.plot(x_arr, y_arr, label = str(a) + \"*x + \" + str(b) + \"*y = \" + str(c))\n",
        "  else: # ax = c\n",
        "    if a != 0:\n",
        "      x_arr_new = np.full(len(x_arr), c/a)  #x = c/a\n",
        "      print(\"x_arr_new = \",x_arr_new)\n",
        "      y_arr = np.linspace(-10, 10, num = len(x_arr)) #values -10 10 need to be modified based on the linear system\n",
        "      plt.plot(x_arr_new, y_arr, label = str(a) + \"*x = \" + str(c))\n",
        "    else:\n",
        "      print(\"Cannot plot this function!\")\n",
        "\n",
        "x_arr = np.arange(-10, 10.1, 0.1)\n",
        "\n",
        "# a\n",
        "plot2DEquation(x_arr, 1, 1, 0)\n",
        "plot2DEquation(x_arr, 1, -1, 2)\n",
        "plt.title(\"System 1 - One solution\")\n",
        "plt.legend()\n",
        "plt.grid()\n",
        "plt.show()\n",
        "print()\n",
        "\n",
        "# b\n",
        "plot2DEquation(x_arr, 1, 1, 0)\n",
        "plot2DEquation(x_arr, 1, 1, 3)\n",
        "plt.title(\"System 2 - Two solution\")\n",
        "plt.legend()\n",
        "plt.grid()\n",
        "plt.show()\n",
        "print()\n",
        "\n",
        "# c\n",
        "x1 = np.arange(1, 5, 1)\n",
        "x2 = np.arange(4, 10 ,1)\n",
        "plot2DEquation(x1, 1, 1, 2)\n",
        "plot2DEquation(x2, 2, 2, 4)\n",
        "plt.title(\"System 3 - Three solution\")\n",
        "plt.legend()\n",
        "plt.grid()\n",
        "plt.show()\n",
        "print()\n"
      ],
      "metadata": {
        "id": "T0xclRGUMzLe"
      },
      "execution_count": null,
      "outputs": []
    },
    {
      "cell_type": "code",
      "source": [
        "# Exercise 3\n",
        "import numpy as np\n",
        "import matplotlib.pyplot as plt\n",
        "\n",
        "def plotEquation3D(ax, x_arr, a, b, c, d, color):\n",
        "  \"\"\"\n",
        "  This function plots the linear equation ax + by + cz = d in a 3D coordinate system.\n",
        "  ax: axes\n",
        "  x_arr: values on the x-axis\n",
        "  color: color of the graph\n",
        "  \"\"\"\n",
        "  if c != 0:\n",
        "    z_func = lambda x, y: (d - a*x - b*y) / c\n",
        "    y_arr = x_arr.copy()\n",
        "    X,Y = np.meshgrid(x_arr, y_arr) #a grid of points created from all combinations of x-values and y-values\n",
        "    Z = z_func(X, Y) # evaluation of the z-function on the grid\n",
        "    ax.plot_surface(X, Y, Z, color = color)\n",
        "  else:\n",
        "    #Google search \"python plot a 2D line in 3d\"\n",
        "    if b != 0:\n",
        "      y_func = lambda x: (d - a*x)/b\n",
        "      y_arr = list( map(y_func, x_arr) )\n",
        "      ax.plot(x_arr, y_arr, zdir='z', zs=-50, color=color)\n",
        "      #print(y_arr)\n",
        "    else:\n",
        "      if a != 0:\n",
        "        x_arr_new = np.full(len(x_arr), d/a)\n",
        "        y_arr = np.linspace(-10, 10, num = len(x_arr)) #values -10 10 need to be modified based on the linear system\n",
        "        ax.plot(x_arr_new, y_arr, zdir='z', zs=-50, color=color)\n",
        "      else:\n",
        "        print(\"Cannot plot this function!\")\n",
        "\n",
        "x_arr = np.arange(-10, 10.1, 0.1)\n",
        "fig = plt.figure()\n",
        "ax= fig.add_subplot(projection= '3d')\n",
        "plotEquation3D(ax, x_arr, 25, 5, 1, 106.8, \"blue\")\n",
        "plotEquation3D(ax, x_arr, 64, 8, 1, 177.2, \"green\")\n",
        "plotEquation3D(ax, x_arr, 144, 12, 1, 279.2, \"red\")\n",
        "\n",
        "plt.title(\"System 1\")\n",
        "ax.set_xlim([-10, 10])\n",
        "ax.set_ylim([-20, 20])\n",
        "#ax.set_zlim([-50, 50])\n",
        "plt.show()"
      ],
      "metadata": {
        "id": "s0C0fU8CU54Z"
      },
      "execution_count": null,
      "outputs": []
    },
    {
      "cell_type": "code",
      "source": [
        "# Exercise 4\n",
        "#2D in 3D example :Plot function: z = sin(3*x^2 + y^2) with random x, y\n",
        "import numpy as np\n",
        "import matplotlib.pyplot as plt\n",
        "\n",
        "x= np.random.random(100)\n",
        "y= np.random.random(100)\n",
        "z= np.sin(3*x**2+y**2)  # z = sin(3*x^2 + y^2)\n",
        "\n",
        "fig= plt.figure()\n",
        "ax= fig.add_subplot(111, projection= '3d')\n",
        "ax.scatter(x,y,z)\n",
        "ax.plot(x, z, 'r+', zdir='y', zs=1.5)\n",
        "ax.plot(y, z, 'g+', zdir='x', zs=-0.5)\n",
        "ax.plot(x, y, 'k+', zdir='z', zs=-1.5)\n",
        "\n",
        "ax.set_xlim([-0.5, 1.5])\n",
        "ax.set_ylim([-0.5, 1.5])\n",
        "ax.set_zlim([-1.5, 1.5])\n",
        "\n",
        "plt.show()"
      ],
      "metadata": {
        "id": "aS_8HmIjbOoc"
      },
      "execution_count": null,
      "outputs": []
    },
    {
      "cell_type": "code",
      "source": [
        "# Exercise 6\n",
        "import sympy as sp\n",
        "t, a0, a1, a2 = sp.symbols('t, a0, a1, a2')\n",
        "pt = lambda t: a0 + a1*t + a2*t**2\n",
        "print(pt(1))\n",
        "print(pt(2))\n",
        "print(pt(3))\n",
        "\n",
        "#defining equations\n",
        "pt1 = sp.Eq(pt(1), 6)\n",
        "pt2 = sp.Eq(pt(2), 15)\n",
        "pt3 = sp.Eq(pt(3), 38)\n",
        "\n",
        "#eq2 = sp.Eq( x + y, 2)\n",
        "sol = sp.solve((pt1, pt2, pt3), (a0, a1, a2))\n",
        "print(\"Solution = \", sol)\n",
        "print(\"The interpolating polynomial p(t) = \", sol[a0] + sol[a1] + sol[a2]*t**2)"
      ],
      "metadata": {
        "id": "ts6xntZfdjaA"
      },
      "execution_count": null,
      "outputs": []
    },
    {
      "cell_type": "code",
      "source": [
        "# Exercise 7\n",
        "import sympy as sp\n",
        "c,p = sp.symbols('c,t')\n",
        "\n",
        "eq1 = sp.Eq(3*c + 3.2*p,118.4)\n",
        "eq2 = sp.Eq(3.5*c + 3.6*p, 135.2 )\n",
        "\n",
        "sol = sp.solve((eq1,eq2),(c,p))\n",
        "\n",
        "print(\"children : \", int(sol[c]))\n",
        "print(\"adult : \", int(sol[p]))"
      ],
      "metadata": {
        "id": "HGSQNN1VYb9X"
      },
      "execution_count": null,
      "outputs": []
    },
    {
      "cell_type": "code",
      "source": [
        "# Exercise 12\n",
        "import numpy as np\n",
        "\n",
        "A = np.matrix([[2,5,9],\n",
        "               [3,5,8],\n",
        "               [4,4,7]])\n",
        "A1 = A[:,[0,2]]\n",
        "print(A1)"
      ],
      "metadata": {
        "id": "FxiFSgnOYk1c"
      },
      "execution_count": null,
      "outputs": []
    },
    {
      "cell_type": "code",
      "source": [
        "# Exercise 13\n",
        "import numpy as np\n",
        "A = np.matrix([[2,5,9,1],\n",
        "               [3,5,8,9],\n",
        "               [4,4,7,1],\n",
        "               [7,6,5,4]])\n",
        "\n",
        "A1 = A[[1,3],:]\n",
        "print(A1)"
      ],
      "metadata": {
        "id": "aF1fIDsCYtIZ"
      },
      "execution_count": null,
      "outputs": []
    },
    {
      "cell_type": "code",
      "source": [
        "# Exercise 14\n",
        "import numpy as np\n",
        "A = np.matrix([[2,5,9,1],\n",
        "               [3,5,8,9],\n",
        "               [4,4,7,1],\n",
        "               [7,6,5,12]])\n",
        "a1 = []\n",
        "\n",
        "for i in range(0,4):\n",
        "  for j in range(0,4):\n",
        "    if (A[i,j] % 2 == 0):\n",
        "      a1.append(A[i,j])\n",
        "\n",
        "A1 = np.matrix(a1)\n",
        "print(A1)\n"
      ],
      "metadata": {
        "id": "ijV_D20LZubA"
      },
      "execution_count": null,
      "outputs": []
    }
  ]
}