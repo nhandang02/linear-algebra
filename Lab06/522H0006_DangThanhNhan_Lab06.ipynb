{
  "nbformat": 4,
  "nbformat_minor": 0,
  "metadata": {
    "colab": {
      "provenance": []
    },
    "kernelspec": {
      "name": "python3",
      "display_name": "Python 3"
    },
    "language_info": {
      "name": "python"
    }
  },
  "cells": [
    {
      "cell_type": "markdown",
      "source": [
        "**Đặng Thành Nhân-MSSV:522H0006-Nhóm 8 tổ 2 -Lab6**"
      ],
      "metadata": {
        "id": "7SeYw7ZwMsxe"
      }
    },
    {
      "cell_type": "code",
      "source": [
        "# Exercise 1\n",
        "import numpy as np\n",
        "\n",
        "A1 = np.array([[1, -7], [-2, -3]])\n",
        "print(\"norm1_A1 = \", np.linalg.norm(A1, 1))\n",
        "A2 = np.array([[-2, 8], [3, 1]])\n",
        "print(\"norm1_A2 = \", np.linalg.norm(A2, 1))\n",
        "A3 = np.array([[2, -8], [3, 1]])\n",
        "print(\"norm1_A3 = \", np.linalg.norm(A3, 1))\n",
        "A4 = np.array([[2, 3], [1, -1]])\n",
        "print(\"norm1_A4 = \", np.linalg.norm(A4, 1))\n",
        "A5 = np.array([[5, -4, 2], [-1, 2, 3], [-2, 1, 0]])\n",
        "print(\"norm1_A5 = \", np.linalg.norm(A5, 1))"
      ],
      "metadata": {
        "id": "Wxqe6_ChMuj2"
      },
      "execution_count": null,
      "outputs": []
    },
    {
      "cell_type": "code",
      "source": [
        "# Exercise 2\n",
        "import numpy as np\n",
        "\n",
        "B1 = np.array([[1, -7], [-2, -3]])\n",
        "print(\"norm-inf_B1 = \", np.linalg.norm(B1, np.inf))\n",
        "B2 = np.array([[3, 6], [1, 0]])\n",
        "print(\"norm-inf_B2 = \", np.linalg.norm(B2, np.inf))\n",
        "B3 = np.array([[5, -4, 2], [-1, 2, 3], [-2, 1, 0]])\n",
        "print(\"norm-inf_B3 = \", np.linalg.norm(B3, np.inf))\n",
        "B4 = np.array([[3, 6, -1], [3, 1, 0], [2, 4, -7]])\n",
        "print(\"norm-inf_B4 = \", np.linalg.norm(B4, np.inf))\n",
        "B5 = np.array([[-3, 0, 0], [0, 4, 0], [0, 0, 2]])\n",
        "print(\"norm-inf_B5 = \", np.linalg.norm(B5, np.inf))"
      ],
      "metadata": {
        "id": "1WZNOtBARsfE"
      },
      "execution_count": null,
      "outputs": []
    },
    {
      "cell_type": "code",
      "source": [
        "# Exercise 3\n",
        "import numpy as np\n",
        "\n",
        "C1 = np.array([[5, -4, 2], [-1, 2, 3], [-2, 1, 0]])\n",
        "print(\"norm-fro_C1 = \", np.linalg.norm(C1, 'fro'))\n",
        "C2 = np.array([[1, 7, 3], [4, -2, -2], [-2, -1, 1]])\n",
        "print(\"norm-fro_C2 = \", np.linalg.norm(C2, 'fro'))\n",
        "C3 = np.array([[2, 3], [1, -1]])\n",
        "print(\"norm-fro_C3 = \", np.linalg.norm(C3, 'fro'))"
      ],
      "metadata": {
        "id": "gI1VDjMrTbxt"
      },
      "execution_count": null,
      "outputs": []
    },
    {
      "cell_type": "code",
      "source": [
        "# Exercise 4\n",
        "import numpy as np\n",
        "import math\n",
        "\n",
        "u1 = np.array([[1], [1]])\n",
        "v1 = np.array([[0], [1]])\n",
        "\n",
        "norm_u1 = np.linalg.norm(u1,2)\n",
        "norm_v1 = np.linalg.norm(v1,2)\n",
        "dotpro = np.dot(u1.T, v1) / (norm_u1*norm_v1)\n",
        "\n",
        "angle_rad = math.acos(dotpro)\n",
        "angle_deg = math.degrees(angle_rad)\n",
        "\n",
        "print(\"a) Angle between u and v: \", angle_deg)\n",
        "\n",
        "u2 = np.array([[1], [0]])\n",
        "v2 = np.array([[0], [1]])\n",
        "\n",
        "norm_u2 = np.linalg.norm(u2,2)\n",
        "norm_v2 = np.linalg.norm(v2,2)\n",
        "dotpro = np.dot(u2.T, v2) / (norm_u2*norm_v2)\n",
        "\n",
        "angle_rad = math.acos(dotpro)\n",
        "angle_deg = math.degrees(angle_rad)\n",
        "\n",
        "print(\"b) Angle between u and v: \", angle_deg)\n",
        "\n",
        "u3 = np.array([[-2], [3]])\n",
        "v3 = np.array([[1/2], [-1/2]])\n",
        "\n",
        "norm_u3 = np.linalg.norm(u3,2)\n",
        "norm_v3 = np.linalg.norm(v3,2)\n",
        "dotpro = np.dot(u3.T, v3) / (norm_u3*norm_v3)\n",
        "\n",
        "angle_rad = math.acos(dotpro)\n",
        "angle_deg = math.degrees(angle_rad)\n",
        "\n",
        "print(\"c) Angle between u and v: \", angle_deg)"
      ],
      "metadata": {
        "id": "vxbMwWvebvtI"
      },
      "execution_count": null,
      "outputs": []
    },
    {
      "cell_type": "code",
      "source": [
        "# Excersice 5\n",
        "import numpy as np\n",
        "import math\n",
        "\n",
        "u = np.array([2, 3])\n",
        "unit_u = u / np.linalg.norm(u) \n",
        "print (\"a) Unit vector of u is\", unit_u, \"with 2-norm =\", np. linalg.norm (unit_u))\n",
        "\n",
        "u = np.array([1, 2, 3])\n",
        "unit_u = u / np.linalg.norm(u) \n",
        "print (\"b) Unit vector of u is\", unit_u, \"with 2-norm =\", np. linalg.norm (unit_u))\n",
        "\n",
        "u = np.array([1/2, -1/2 , 1/4])\n",
        "unit_u = u / np.linalg.norm(u) \n",
        "print (\"c) Unit vector of u is\", unit_u, \"with 2-norm =\", np. linalg.norm (unit_u))\n",
        "\n",
        "u = np.array([math.sqrt(2), 2, -math.sqrt(2), math.sqrt(2)])\n",
        "unit_u = u / np.linalg.norm(u) \n",
        "print (\"d) Unit vector of u is\", unit_u, \"with 2-norm =\", np. linalg.norm (unit_u))"
      ],
      "metadata": {
        "id": "eMdJDyRBcWMx"
      },
      "execution_count": null,
      "outputs": []
    },
    {
      "cell_type": "code",
      "source": [
        "# Exercise 6\n",
        "import numpy as np\n",
        "\n",
        "v1 = np.array([1, 2, 3])\n",
        "s2 = np.array([7, 4, 3])\n",
        "s3 = np.array([2, 1, 9])\n",
        "\n",
        "print(\"Distance between v1 ad s2 = \", np.linalg.norm(v1-s2))\n",
        "print(\"Distance between s1 ad s3 = \", np.linalg.norm(v1-s3))\n",
        "print(\"Distance between s2 ad s3 = \", np.linalg.norm(s2-s3))"
      ],
      "metadata": {
        "colab": {
          "base_uri": "https://localhost:8080/"
        },
        "id": "yamhP9oVi8m_",
        "outputId": "0e298a37-8337-4b2f-f78d-0d4f2f13dc7c"
      },
      "execution_count": null,
      "outputs": [
        {
          "output_type": "stream",
          "name": "stdout",
          "text": [
            "Distance between v1 ad s2 =  6.324555320336759\n",
            "Distance between s1 ad s3 =  6.164414002968976\n",
            "Distance between s2 ad s3 =  8.366600265340756\n"
          ]
        }
      ]
    },
    {
      "cell_type": "code",
      "source": [
        "# Exercise 7\n",
        "\n",
        "import numpy as np\n",
        "E7 = np.array([[80,98,99,85,106,94],[71,92,76,95,100,92],[124,163,140,160,176,161]])\n",
        "A7 = np.array([[1,2,3],[2,1,2],[3,2,4]])\n",
        "A7_1 = np.linalg.inv(A7)\n",
        "D7 = np.matmul(A7_1,E7)\n",
        "print(\"message D = \\n\",D7)\n",
        "\n",
        "#Cách 1:\n",
        "lchar = list(map(chr, range(97 - 32, 123 - 32)))\n",
        "lchar.append(\" \")\n",
        "print(\"lchar = \",lchar)\n",
        "lchar_ship3 = []  #message\n",
        "s = \"\"\n",
        "\n",
        "for col in range(0,6):\n",
        "    for row in range(0,3):\n",
        "      k = int(round(D7[row,col],0))\n",
        "      #print(k-4)\n",
        "      #print(lchar[k - 4]) #shift 3 but index of list start with 0\n",
        "      s += lchar[k - 4]\n",
        "print(\"message = \",s)\n",
        "print(\"end\")"
      ],
      "metadata": {
        "id": "d7uuCTosk2Pi"
      },
      "execution_count": null,
      "outputs": []
    },
    {
      "cell_type": "code",
      "source": [
        "# Exercise 8\n",
        "import numpy as np\n",
        "\n",
        "A = np.array([[3, 4, 5], [1, 3, 1], [1, 1, 2]])\n",
        "\n",
        "def encode_message(message):\n",
        "    A = [[3, 4, 5], [1, 3, 1], [1, 1, 2]]\n",
        "    alphabet = \"ABCDEFGHIJKLMNOPQRSTUVWXYZ \"\n",
        "    encoded_message = \"\"\n",
        "    for i in range(0, len(message)):\n",
        "        char = message[i].upper()\n",
        "        if char in alphabet:\n",
        "            index = alphabet.index(char)\n",
        "            encoded_char = \"\"\n",
        "            for j in range(0, 3):\n",
        "                encoded_char += str((A[j][0] * index) % 27 + (A[j][1] * index) % 27 + (A[j][2] * index) % 27) + \" \"\n",
        "            encoded_message += encoded_char\n",
        "    return encoded_message\n",
        "\n",
        "message1 = \"ATTACK\"\n",
        "message2 = \"LINEAR ALGEBRA LABORATORY\"\n",
        "encoded_message1 = encode_message(message1)\n",
        "encoded_message2 = encode_message(message2)\n",
        "print(\"encoded_message1: \", encoded_message1)\n",
        "print(\"encoded_message2: \", encoded_message2)\n"
      ],
      "metadata": {
        "id": "i_smg30oRTFn"
      },
      "execution_count": null,
      "outputs": []
    },
    {
      "cell_type": "code",
      "source": [
        "# Exercise 9\n",
        "import numpy as np\n",
        "\n",
        "def cosine_similarity(matrix):\n",
        "    product = np.dot(matrix, matrix.T)\n",
        "\n",
        "    norm = np.sqrt(np.sum(matrix**2, axis=1))\n",
        "    \n",
        "    outer_norm = np.outer(norm, norm)\n",
        "    \n",
        "    cosine_similarity_matrix = product / outer_norm\n",
        "    \n",
        "    return cosine_similarity_matrix\n",
        "\n",
        "matrix = np.array([[0, 4, 0, 0, 0, 2, 1, 3],\n",
        "                            [3, 1, 4, 3, 1, 2, 0, 1],\n",
        "                            [3, 0, 0, 0, 3, 0, 3, 0],\n",
        "                            [0, 1, 0, 3, 0, 0, 2, 0],\n",
        "                            [2, 2, 2, 3, 1, 4, 0, 2]])\n",
        "\n",
        "cosine_similarity_matrix = cosine_similarity(matrix)\n",
        "\n",
        "print(cosine_similarity_matrix)"
      ],
      "metadata": {
        "id": "lbN259Bq3Vv5"
      },
      "execution_count": null,
      "outputs": []
    },
    {
      "cell_type": "code",
      "source": [
        "# Exercise 10\n",
        "import numpy as np\n",
        "\n",
        "def retrieve_nearest_doc(q, doc_vectors):\n",
        "    \n",
        "    similarities = np.dot(doc_vectors, q) / (np.linalg.norm(doc_vectors, axis=1) * np.linalg.norm(q))\n",
        "    \n",
        "    nearest_doc_idx = np.argmax(similarities)\n",
        "    \n",
        "    return nearest_doc_idx\n",
        "\n",
        "doc_vectors = np.array([[1.0, 0.5, 0.3, 0, 0, 0],\n",
        "                        [0.5, 1.0, 0, 0, 0, 0],\n",
        "                        [0, 1.0, 0.8, 0.7, 0, 0],\n",
        "                        [0, 0.9, 1.0, 0.5, 0, 0],\n",
        "                        [0, 0, 0, 1.0, 0, 1.0],\n",
        "                        [0, 0, 0, 0, 0.7, 0],\n",
        "                        [0.5, 0, 0.7, 0, 0, 0.9],\n",
        "                        [0, 0.6, 0, 1.0, 0.3, 0.2]])\n",
        "\n",
        "q = np.array([0, 0, 0.7, 0.5, 0, 0.3])\n",
        "\n",
        "nearest_doc_idx = retrieve_nearest_doc(q, doc_vectors)\n",
        "\n",
        "print(\"The nearest document is D{}\".format(nearest_doc_idx+1))"
      ],
      "metadata": {
        "colab": {
          "base_uri": "https://localhost:8080/"
        },
        "id": "R_H0FFq4rFYy",
        "outputId": "381b7b0d-cdee-4017-90a0-3a0b4b369e74"
      },
      "execution_count": 4,
      "outputs": [
        {
          "output_type": "stream",
          "name": "stdout",
          "text": [
            "The nearest document is D4\n"
          ]
        }
      ]
    }
  ]
}